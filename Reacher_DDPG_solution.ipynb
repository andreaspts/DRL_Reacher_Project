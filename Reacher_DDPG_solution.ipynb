{
 "cells": [
  {
   "cell_type": "markdown",
   "metadata": {},
   "source": [
    "# Continuous control with Deep Deterministic Policy Gradients (DDPG)\n",
    "---\n",
    "In this notebook, we solve Unity's Reacher environment using the DDPG algorithm.\n",
    "\n",
    "### 1. Import the Necessary Packages\n",
    "\n",
    "We commence by importing the required packages. (Notice that ddpg_agent.py encapsulates the details of the learning agent.):"
   ]
  },
  {
   "cell_type": "code",
   "execution_count": 1,
   "metadata": {},
   "outputs": [],
   "source": [
    "import random\n",
    "import torch\n",
    "import numpy as np\n",
    "from collections import deque\n",
    "\n",
    "import matplotlib.pyplot as plt\n",
    "%matplotlib inline\n",
    "\n",
    "from unityagents import UnityEnvironment\n",
    "\n",
    "from ddpg_agent import Agent"
   ]
  },
  {
   "cell_type": "markdown",
   "metadata": {},
   "source": [
    "### 2. Instantiate the Environment and Agent\n",
    "\n",
    "Environments contain brains deciding which actions the agents should take. Here, we first work with the Reacher environment which contains a single agent. The first brain available is set as the default brain."
   ]
  },
  {
   "cell_type": "code",
   "execution_count": 2,
   "metadata": {},
   "outputs": [
    {
     "name": "stderr",
     "output_type": "stream",
     "text": [
      "INFO:unityagents:\n",
      "'Academy' started successfully!\n",
      "Unity Academy name: Academy\n",
      "        Number of Brains: 1\n",
      "        Number of External Brains : 1\n",
      "        Lesson number : 0\n",
      "        Reset Parameters :\n",
      "\t\tgoal_speed -> 1.0\n",
      "\t\tgoal_size -> 5.0\n",
      "Unity brain name: ReacherBrain\n",
      "        Number of Visual Observations (per agent): 0\n",
      "        Vector Observation space type: continuous\n",
      "        Vector Observation space size (per agent): 33\n",
      "        Number of stacked Vector Observation: 1\n",
      "        Vector Action space type: continuous\n",
      "        Vector Action space size (per agent): 4\n",
      "        Vector Action descriptions: , , , \n"
     ]
    }
   ],
   "source": [
    "env = UnityEnvironment(file_name='/Users/Andreas/Documents/GitHub/deep-reinforcement-learning/p2_continuous-control/Reacher.app',worker_id=1, seed=1,no_graphics=True)"
   ]
  },
  {
   "cell_type": "code",
   "execution_count": 3,
   "metadata": {},
   "outputs": [],
   "source": [
    "# get the default brain\n",
    "brain_name = env.brain_names[0]\n",
    "brain = env.brains[brain_name]"
   ]
  },
  {
   "cell_type": "markdown",
   "metadata": {},
   "source": [
    "### 3. Examination of the state and action spaces\n",
    "\n",
    "In this problem a single agent learns to move a double-jointed arm to reach to target locations.\n",
    "\n",
    "The agent obtains a reward of +0.1 for each step that the agent's hand is in the targeted position. The overall goal of the agent is to keep its position exactly there for as long as possible.\n",
    "\n",
    "The observation space has 33 variables which correspond to position, rotation, velocity, and angular velocities of the arm. The agent is allowed to take actions, each of which is a vector with four numbers. The action corresponds to the torque applied to two joints. The entries of the action vector vary continuously between between -1 and 1.\n",
    "\n",
    "The following cell contains some overview information about the environment:"
   ]
  },
  {
   "cell_type": "code",
   "execution_count": 59,
   "metadata": {},
   "outputs": [
    {
     "name": "stdout",
     "output_type": "stream",
     "text": [
      "Number of agents: 1\n",
      "Size of each action: 4\n",
      "There is/are 1 agents. Each observes a state with length: 33\n",
      "The state for the first agent looks like: [ 0.00000000e+00 -4.00000000e+00  0.00000000e+00  1.00000000e+00\n",
      " -0.00000000e+00 -0.00000000e+00 -4.37113883e-08  0.00000000e+00\n",
      "  0.00000000e+00  0.00000000e+00  0.00000000e+00  0.00000000e+00\n",
      "  0.00000000e+00  0.00000000e+00 -1.00000000e+01  0.00000000e+00\n",
      "  1.00000000e+00 -0.00000000e+00 -0.00000000e+00 -4.37113883e-08\n",
      "  0.00000000e+00  0.00000000e+00  0.00000000e+00  0.00000000e+00\n",
      "  0.00000000e+00  0.00000000e+00 -5.94515800e+00 -1.00000000e+00\n",
      "  5.35304594e+00  0.00000000e+00  1.00000000e+00  0.00000000e+00\n",
      "  7.49845982e-01]\n"
     ]
    }
   ],
   "source": [
    "# reset the environment\n",
    "#env_info = env.reset(train_mode=True)[brain_name]\n",
    "\n",
    "# number of agents\n",
    "num_agents = len(env_info.agents)\n",
    "print('Number of agents:', num_agents)\n",
    "\n",
    "# size of each action\n",
    "action_size = brain.vector_action_space_size\n",
    "print('Size of each action:', action_size)\n",
    "\n",
    "# examine the state space \n",
    "states = env_info.vector_observations\n",
    "state_size = states.shape[1]\n",
    "print('There is/are {} agents. Each observes a state with length: {}'.format(states.shape[0], state_size))\n",
    "print('The state for the first agent looks like:', states[0])"
   ]
  },
  {
   "cell_type": "markdown",
   "metadata": {},
   "source": [
    "### 4. Training of the agent with DDPG\n",
    "\n",
    "The following function is responsible for the training of the agent. The agent is trained so that it uses its experience to gradually choose better actions over time. Once the agent reaches an average score of 30.0 over 100 consecutive episodes, the learned weights are saved to the checkpoint_actor.pth and checkpoint_critic.pth files and we are done. Notice that the details of the actor and critic part of the algorithm and their training are taken care of the model.py and ddpg_agent.py files.\n",
    "\n",
    "We then initialize the agent, train it, define moving average functions (needed for plotting), and plot the results below."
   ]
  },
  {
   "cell_type": "code",
   "execution_count": 6,
   "metadata": {},
   "outputs": [],
   "source": [
    "def ddpg(n_episodes=2000, max_t=1500):\n",
    "    \n",
    "    scores_deque = deque(maxlen=100)\n",
    "    scores_list = []\n",
    "    max_score = -np.Inf\n",
    "    \n",
    "    for i_episode in range(1, n_episodes+1):\n",
    "        \n",
    "        \n",
    "        # Per episode we have to reset the environment.\n",
    "        env_info = env.reset(train_mode=True)[brain_name]\n",
    "        # Per episode we have to get the current state.\n",
    "        states = env_info.vector_observations        \n",
    "        \n",
    "        agent.reset()\n",
    "        scores = np.zeros(num_agents)\n",
    "        \n",
    "        for t in range(max_t):\n",
    "            actions = agent.act(states)\n",
    "            \n",
    "            env_info = env.step(actions)[brain_name]\n",
    "            # We obtain the next state.\n",
    "            next_states = env_info.vector_observations\n",
    "            # We get the reward.\n",
    "            rewards = env_info.rewards\n",
    "            # We get the done status.\n",
    "            dones = env_info.local_done\n",
    "\n",
    "            agent.step(states, actions, rewards, next_states, dones)\n",
    "            states = next_states\n",
    "            scores += rewards\n",
    "\n",
    "            if np.any(dones):\n",
    "                break \n",
    "                \n",
    "        score = np.mean(scores)\n",
    "        scores_deque.append(score)\n",
    "        scores_list.append(score)\n",
    "        \n",
    "        print('\\rEpisode {}\\tAverage Score: {:.2f}\\tScore: {:.2f}'.format(i_episode, np.mean(scores_deque), score))\n",
    "        \n",
    "        if i_episode % 100 == 0:\n",
    "            print('\\rEpisode {}\\tAverage Score: {:.2f}'.format(i_episode, np.mean(scores_deque)))   \n",
    "        \n",
    "        if np.mean(scores_deque) >= 30:  \n",
    "            print('\\nEnvironment solved in {:d} episodes!\\tAverage Score: {:.2f}'.format(i_episode, np.mean(scores_deque)))\n",
    "            torch.save(agent.actor_local.state_dict(), 'checkpoint_actor.pth')\n",
    "            torch.save(agent.critic_local.state_dict(), 'checkpoint_critic.pth')\n",
    "            break\n",
    "            \n",
    "    return scores_list"
   ]
  },
  {
   "cell_type": "markdown",
   "metadata": {},
   "source": [
    "We proceed with the actual training of the agent. A plot of rewards per episode is included which illustrates that the agent is able to receive an average reward (over 100 episodes) of at least +30.0. We also report the number of episodes which are needed to solve the environment."
   ]
  },
  {
   "cell_type": "code",
   "execution_count": 7,
   "metadata": {},
   "outputs": [
    {
     "name": "stderr",
     "output_type": "stream",
     "text": [
      "/Users/Andreas/anaconda3/lib/python3.6/site-packages/torch/nn/functional.py:1320: UserWarning: nn.functional.tanh is deprecated. Use torch.tanh instead.\n",
      "  warnings.warn(\"nn.functional.tanh is deprecated. Use torch.tanh instead.\")\n"
     ]
    },
    {
     "name": "stdout",
     "output_type": "stream",
     "text": [
      "Episode 1\tAverage Score: 0.36\tScore: 0.36\n",
      "Episode 2\tAverage Score: 0.26\tScore: 0.16\n",
      "Episode 3\tAverage Score: 0.47\tScore: 0.90\n",
      "Episode 4\tAverage Score: 0.52\tScore: 0.67\n",
      "Episode 5\tAverage Score: 1.00\tScore: 2.89\n",
      "Episode 6\tAverage Score: 1.06\tScore: 1.39\n",
      "Episode 7\tAverage Score: 1.00\tScore: 0.66\n",
      "Episode 8\tAverage Score: 1.09\tScore: 1.68\n",
      "Episode 9\tAverage Score: 1.15\tScore: 1.68\n",
      "Episode 10\tAverage Score: 1.14\tScore: 1.03\n",
      "Episode 11\tAverage Score: 1.08\tScore: 0.47\n",
      "Episode 12\tAverage Score: 1.14\tScore: 1.76\n",
      "Episode 13\tAverage Score: 1.16\tScore: 1.48\n",
      "Episode 14\tAverage Score: 1.22\tScore: 1.92\n",
      "Episode 15\tAverage Score: 1.31\tScore: 2.65\n",
      "Episode 16\tAverage Score: 1.35\tScore: 1.85\n",
      "Episode 17\tAverage Score: 1.41\tScore: 2.43\n",
      "Episode 18\tAverage Score: 1.45\tScore: 2.15\n",
      "Episode 19\tAverage Score: 1.47\tScore: 1.84\n",
      "Episode 20\tAverage Score: 1.42\tScore: 0.39\n",
      "Episode 21\tAverage Score: 1.45\tScore: 2.10\n",
      "Episode 22\tAverage Score: 1.45\tScore: 1.50\n",
      "Episode 23\tAverage Score: 1.52\tScore: 3.01\n",
      "Episode 24\tAverage Score: 1.60\tScore: 3.40\n",
      "Episode 25\tAverage Score: 1.58\tScore: 1.25\n",
      "Episode 26\tAverage Score: 1.61\tScore: 2.12\n",
      "Episode 27\tAverage Score: 1.61\tScore: 1.74\n",
      "Episode 28\tAverage Score: 1.61\tScore: 1.61\n",
      "Episode 29\tAverage Score: 1.66\tScore: 2.97\n",
      "Episode 30\tAverage Score: 1.66\tScore: 1.70\n",
      "Episode 31\tAverage Score: 1.67\tScore: 2.07\n",
      "Episode 32\tAverage Score: 1.66\tScore: 1.17\n",
      "Episode 33\tAverage Score: 1.69\tScore: 2.76\n",
      "Episode 34\tAverage Score: 1.71\tScore: 2.44\n",
      "Episode 35\tAverage Score: 1.70\tScore: 1.25\n",
      "Episode 36\tAverage Score: 1.80\tScore: 5.38\n",
      "Episode 37\tAverage Score: 1.89\tScore: 5.03\n",
      "Episode 38\tAverage Score: 1.96\tScore: 4.52\n",
      "Episode 39\tAverage Score: 1.98\tScore: 2.87\n",
      "Episode 40\tAverage Score: 2.02\tScore: 3.75\n",
      "Episode 41\tAverage Score: 2.04\tScore: 2.81\n",
      "Episode 42\tAverage Score: 2.13\tScore: 5.52\n",
      "Episode 43\tAverage Score: 2.12\tScore: 1.65\n",
      "Episode 44\tAverage Score: 2.15\tScore: 3.60\n",
      "Episode 45\tAverage Score: 2.22\tScore: 5.23\n",
      "Episode 46\tAverage Score: 2.33\tScore: 7.39\n",
      "Episode 47\tAverage Score: 2.35\tScore: 3.48\n",
      "Episode 48\tAverage Score: 2.37\tScore: 3.22\n",
      "Episode 49\tAverage Score: 2.43\tScore: 5.06\n",
      "Episode 50\tAverage Score: 2.43\tScore: 2.32\n",
      "Episode 51\tAverage Score: 2.46\tScore: 4.16\n",
      "Episode 52\tAverage Score: 2.53\tScore: 6.14\n",
      "Episode 53\tAverage Score: 2.64\tScore: 8.27\n",
      "Episode 54\tAverage Score: 2.67\tScore: 4.18\n",
      "Episode 55\tAverage Score: 2.71\tScore: 5.29\n",
      "Episode 56\tAverage Score: 2.73\tScore: 3.72\n",
      "Episode 57\tAverage Score: 2.75\tScore: 3.84\n",
      "Episode 58\tAverage Score: 2.81\tScore: 5.95\n",
      "Episode 59\tAverage Score: 2.86\tScore: 5.85\n",
      "Episode 60\tAverage Score: 2.91\tScore: 5.90\n",
      "Episode 61\tAverage Score: 2.99\tScore: 8.01\n",
      "Episode 62\tAverage Score: 3.01\tScore: 4.26\n",
      "Episode 63\tAverage Score: 3.08\tScore: 7.26\n",
      "Episode 64\tAverage Score: 3.12\tScore: 5.83\n",
      "Episode 65\tAverage Score: 3.15\tScore: 5.01\n",
      "Episode 66\tAverage Score: 3.22\tScore: 7.74\n",
      "Episode 67\tAverage Score: 3.27\tScore: 6.23\n",
      "Episode 68\tAverage Score: 3.32\tScore: 6.96\n",
      "Episode 69\tAverage Score: 3.35\tScore: 5.60\n",
      "Episode 70\tAverage Score: 3.46\tScore: 10.63\n",
      "Episode 71\tAverage Score: 3.51\tScore: 7.09\n",
      "Episode 72\tAverage Score: 3.68\tScore: 15.82\n",
      "Episode 73\tAverage Score: 3.74\tScore: 8.34\n",
      "Episode 74\tAverage Score: 3.84\tScore: 10.54\n",
      "Episode 75\tAverage Score: 3.96\tScore: 13.00\n",
      "Episode 76\tAverage Score: 4.08\tScore: 13.14\n",
      "Episode 77\tAverage Score: 4.14\tScore: 8.39\n",
      "Episode 78\tAverage Score: 4.19\tScore: 8.34\n",
      "Episode 79\tAverage Score: 4.27\tScore: 10.78\n",
      "Episode 80\tAverage Score: 4.33\tScore: 8.98\n",
      "Episode 81\tAverage Score: 4.40\tScore: 9.72\n",
      "Episode 82\tAverage Score: 4.45\tScore: 8.52\n",
      "Episode 83\tAverage Score: 4.53\tScore: 11.34\n",
      "Episode 84\tAverage Score: 4.61\tScore: 11.30\n",
      "Episode 85\tAverage Score: 4.71\tScore: 12.82\n",
      "Episode 86\tAverage Score: 4.76\tScore: 9.11\n",
      "Episode 87\tAverage Score: 4.82\tScore: 9.97\n",
      "Episode 88\tAverage Score: 4.92\tScore: 13.51\n",
      "Episode 89\tAverage Score: 5.07\tScore: 18.47\n",
      "Episode 90\tAverage Score: 5.25\tScore: 21.04\n",
      "Episode 91\tAverage Score: 5.29\tScore: 8.70\n",
      "Episode 92\tAverage Score: 5.51\tScore: 26.06\n",
      "Episode 93\tAverage Score: 5.68\tScore: 20.79\n",
      "Episode 94\tAverage Score: 5.73\tScore: 10.80\n",
      "Episode 95\tAverage Score: 5.97\tScore: 28.15\n",
      "Episode 96\tAverage Score: 6.24\tScore: 31.80\n",
      "Episode 97\tAverage Score: 6.26\tScore: 8.96\n",
      "Episode 98\tAverage Score: 6.44\tScore: 23.23\n",
      "Episode 99\tAverage Score: 6.72\tScore: 34.02\n",
      "Episode 100\tAverage Score: 6.94\tScore: 28.70\n",
      "Episode 100\tAverage Score: 6.94\n",
      "Episode 101\tAverage Score: 7.19\tScore: 26.09\n",
      "Episode 102\tAverage Score: 7.50\tScore: 31.37\n",
      "Episode 103\tAverage Score: 7.67\tScore: 17.14\n",
      "Episode 104\tAverage Score: 7.84\tScore: 17.75\n",
      "Episode 105\tAverage Score: 7.97\tScore: 16.36\n",
      "Episode 106\tAverage Score: 8.08\tScore: 12.28\n",
      "Episode 107\tAverage Score: 8.38\tScore: 30.12\n",
      "Episode 108\tAverage Score: 8.67\tScore: 30.71\n",
      "Episode 109\tAverage Score: 8.96\tScore: 31.20\n",
      "Episode 110\tAverage Score: 9.20\tScore: 24.49\n",
      "Episode 111\tAverage Score: 9.53\tScore: 34.34\n",
      "Episode 112\tAverage Score: 9.79\tScore: 27.61\n",
      "Episode 113\tAverage Score: 10.11\tScore: 33.28\n",
      "Episode 114\tAverage Score: 10.42\tScore: 32.86\n",
      "Episode 115\tAverage Score: 10.74\tScore: 34.08\n",
      "Episode 116\tAverage Score: 11.00\tScore: 28.68\n",
      "Episode 117\tAverage Score: 11.35\tScore: 36.74\n",
      "Episode 118\tAverage Score: 11.72\tScore: 39.48\n",
      "Episode 119\tAverage Score: 11.94\tScore: 23.88\n",
      "Episode 120\tAverage Score: 12.30\tScore: 36.35\n",
      "Episode 121\tAverage Score: 12.61\tScore: 33.32\n",
      "Episode 122\tAverage Score: 12.95\tScore: 35.52\n",
      "Episode 123\tAverage Score: 13.28\tScore: 35.85\n",
      "Episode 124\tAverage Score: 13.60\tScore: 35.50\n",
      "Episode 125\tAverage Score: 13.78\tScore: 18.59\n",
      "Episode 126\tAverage Score: 13.99\tScore: 23.79\n",
      "Episode 127\tAverage Score: 14.31\tScore: 33.27\n",
      "Episode 128\tAverage Score: 14.64\tScore: 34.92\n",
      "Episode 129\tAverage Score: 15.00\tScore: 38.66\n",
      "Episode 130\tAverage Score: 15.37\tScore: 39.23\n",
      "Episode 131\tAverage Score: 15.53\tScore: 17.99\n",
      "Episode 132\tAverage Score: 15.91\tScore: 39.03\n",
      "Episode 133\tAverage Score: 16.18\tScore: 29.73\n",
      "Episode 134\tAverage Score: 16.52\tScore: 36.37\n",
      "Episode 135\tAverage Score: 16.84\tScore: 33.46\n",
      "Episode 136\tAverage Score: 17.15\tScore: 35.85\n",
      "Episode 137\tAverage Score: 17.49\tScore: 39.31\n",
      "Episode 138\tAverage Score: 17.80\tScore: 35.39\n",
      "Episode 139\tAverage Score: 18.12\tScore: 35.10\n",
      "Episode 140\tAverage Score: 18.40\tScore: 31.75\n",
      "Episode 141\tAverage Score: 18.54\tScore: 16.51\n",
      "Episode 142\tAverage Score: 18.85\tScore: 36.92\n",
      "Episode 143\tAverage Score: 19.07\tScore: 23.26\n",
      "Episode 144\tAverage Score: 19.33\tScore: 29.48\n",
      "Episode 145\tAverage Score: 19.52\tScore: 24.54\n",
      "Episode 146\tAverage Score: 19.80\tScore: 35.56\n",
      "Episode 147\tAverage Score: 20.08\tScore: 31.90\n",
      "Episode 148\tAverage Score: 20.45\tScore: 39.35\n",
      "Episode 149\tAverage Score: 20.69\tScore: 29.90\n",
      "Episode 150\tAverage Score: 20.85\tScore: 17.73\n",
      "Episode 151\tAverage Score: 21.10\tScore: 29.73\n",
      "Episode 152\tAverage Score: 21.32\tScore: 27.48\n",
      "Episode 153\tAverage Score: 21.50\tScore: 26.39\n",
      "Episode 154\tAverage Score: 21.78\tScore: 32.57\n",
      "Episode 155\tAverage Score: 22.06\tScore: 32.77\n",
      "Episode 156\tAverage Score: 22.34\tScore: 32.38\n",
      "Episode 157\tAverage Score: 22.66\tScore: 35.23\n",
      "Episode 158\tAverage Score: 22.97\tScore: 36.94\n",
      "Episode 159\tAverage Score: 23.22\tScore: 31.11\n",
      "Episode 160\tAverage Score: 23.48\tScore: 31.44\n",
      "Episode 161\tAverage Score: 23.74\tScore: 34.87\n",
      "Episode 162\tAverage Score: 24.07\tScore: 36.74\n",
      "Episode 163\tAverage Score: 24.28\tScore: 27.86\n",
      "Episode 164\tAverage Score: 24.53\tScore: 31.47\n",
      "Episode 165\tAverage Score: 24.81\tScore: 32.68\n",
      "Episode 166\tAverage Score: 25.08\tScore: 34.91\n",
      "Episode 167\tAverage Score: 25.32\tScore: 29.81\n",
      "Episode 168\tAverage Score: 25.54\tScore: 29.48\n",
      "Episode 169\tAverage Score: 25.74\tScore: 25.54\n",
      "Episode 170\tAverage Score: 25.99\tScore: 35.36\n",
      "Episode 171\tAverage Score: 26.23\tScore: 31.19\n",
      "Episode 172\tAverage Score: 26.41\tScore: 33.73\n",
      "Episode 173\tAverage Score: 26.56\tScore: 23.76\n",
      "Episode 174\tAverage Score: 26.76\tScore: 30.12\n",
      "Episode 175\tAverage Score: 26.86\tScore: 23.31\n",
      "Episode 176\tAverage Score: 27.08\tScore: 35.00\n",
      "Episode 177\tAverage Score: 27.27\tScore: 27.35\n",
      "Episode 178\tAverage Score: 27.50\tScore: 31.23\n",
      "Episode 179\tAverage Score: 27.65\tScore: 25.85\n",
      "Episode 180\tAverage Score: 27.87\tScore: 31.48\n",
      "Episode 181\tAverage Score: 27.99\tScore: 20.93\n",
      "Episode 182\tAverage Score: 28.28\tScore: 38.14\n",
      "Episode 183\tAverage Score: 28.39\tScore: 21.80\n",
      "Episode 184\tAverage Score: 28.52\tScore: 24.44\n"
     ]
    },
    {
     "name": "stdout",
     "output_type": "stream",
     "text": [
      "Episode 185\tAverage Score: 28.70\tScore: 31.16\n",
      "Episode 186\tAverage Score: 28.83\tScore: 22.17\n",
      "Episode 187\tAverage Score: 28.95\tScore: 21.46\n",
      "Episode 188\tAverage Score: 29.10\tScore: 28.78\n",
      "Episode 189\tAverage Score: 29.24\tScore: 32.95\n",
      "Episode 190\tAverage Score: 29.41\tScore: 38.00\n",
      "Episode 191\tAverage Score: 29.64\tScore: 31.10\n",
      "Episode 192\tAverage Score: 29.63\tScore: 25.21\n",
      "Episode 193\tAverage Score: 29.77\tScore: 35.09\n",
      "Episode 194\tAverage Score: 29.95\tScore: 28.50\n",
      "Episode 195\tAverage Score: 29.90\tScore: 22.82\n",
      "Episode 196\tAverage Score: 29.83\tScore: 24.78\n",
      "Episode 197\tAverage Score: 30.06\tScore: 32.05\n",
      "\n",
      "Environment solved in 197 episodes!\tAverage Score: 30.06\n"
     ]
    }
   ],
   "source": [
    "# We call the Agent class and initialize the learning agent and then start the learning algorithm.\n",
    "agent = Agent(state_size=state_size, action_size=action_size, random_seed=1)\n",
    "scores = ddpg()"
   ]
  },
  {
   "cell_type": "code",
   "execution_count": 44,
   "metadata": {},
   "outputs": [],
   "source": [
    "# Define moving average functions for plotting below.\n",
    "# moving averages https://www.quora.com/How-do-I-perform-moving-average-in-Python\n",
    "def movingaverage(values,window):\n",
    "    weights = np.repeat(1.0,window)/window\n",
    "    smas = np.convolve(values,weights,'valid')\n",
    "    return smas\n",
    "\n",
    "def ExpMovingAverage(values,window):\n",
    "    weights = np.exp(np.linspace(-1.,0.,window))\n",
    "    weights /= weights.sum()\n",
    "    \n",
    "    emas = np.convolve(values,weights)[:len(values)]\n",
    "    emas[:window] = emas[window]\n",
    "    return emas\n",
    "\n",
    "\n",
    "def Gaussianwindowsaverage(values):\n",
    "    gaussian_func = lambda x, sigma: 1/np.sqrt(2*np.pi*sigma**2) * np.exp(-(x**2)/(2*sigma**2))\n",
    "    # Compute moving averages using window size sigma_lst\n",
    "    sigma_lst = 3\n",
    "    y_gau = np.zeros((1, len(values)))\n",
    "\n",
    "    gau_x = np.linspace(-2.7*sigma_lst, 2.7*sigma_lst, 6*sigma_lst)\n",
    "    gau_mask = gaussian_func(gau_x, sigma_lst)\n",
    "    y_gau = np.convolve(values, gau_mask, 'same')\n",
    "    \n",
    "    return y_gau"
   ]
  },
  {
   "cell_type": "code",
   "execution_count": 46,
   "metadata": {},
   "outputs": [
    {
     "data": {
      "image/png": "[encoded data removed]",
      "text/plain": [
       "<Figure size 432x288 with 1 Axes>"
      ]
     },
     "metadata": {
      "needs_background": "light"
     },
     "output_type": "display_data"
    }
   ],
   "source": [
    "# We plot the scores over the number of episodes.\n",
    "fig = plt.figure()\n",
    "ax = fig.add_subplot(111)\n",
    "plt.plot(scores, 'b', lw=1)\n",
    "plt.plot(movingaverage(scores,3), 'g', lw=2)\n",
    "plt.plot(ExpMovingAverage(scores,3), 'y', lw=2)\n",
    "plt.plot(Gaussianwindowsaverage(scores),'m',lw=2)\n",
    "plt.plot([0, len(scores)], [30, 30], 'r', lw=2)\n",
    "plt.ylabel('Score')\n",
    "plt.xlabel('Episode #')\n",
    "plt.show()"
   ]
  },
  {
   "cell_type": "markdown",
   "metadata": {},
   "source": [
    "### 5. Watch a Smart Agent!\n",
    "\n",
    "In the following code cell, one can load the trained weights from the files in order to watch the performance of the smart (i.e. trained) agent(s)."
   ]
  },
  {
   "cell_type": "code",
   "execution_count": 80,
   "metadata": {},
   "outputs": [
    {
     "name": "stdout",
     "output_type": "stream",
     "text": [
      "Score: [32.40999928]\n"
     ]
    }
   ],
   "source": [
    "agent.actor_local.load_state_dict(torch.load('checkpoint_actor.pth'))\n",
    "agent.critic_local.load_state_dict(torch.load('checkpoint_critic.pth'))\n",
    "\n",
    "env_info = env.reset(train_mode=False)[brain_name]   # reset the environment\n",
    "states = env_info.vector_observations                # get the current state(s)\n",
    "scores = np.zeros(num_agents)                        # initialize the score(s)\n",
    "\n",
    "while True:\n",
    "    actions = agent.act(states)                      # select the action(s)\n",
    "    env_info = env.step(actions)[brain_name]         # send the action(s) to the environment\n",
    "    next_states = env_info.vector_observations       # get the next state(s)\n",
    "    rewards = env_info.rewards                       # get the reward(s)\n",
    "    dones = env_info.local_done                      # see if episode has finished\n",
    "    scores += rewards                                # update the score(s)\n",
    "    states = next_states                             # roll over the state to next time step\n",
    "    if np.any(dones):                                # exit loop if episode is finished\n",
    "        break\n",
    "    \n",
    "print(\"Score: {}\".format(scores))                    # print the score(s) of the episode"
   ]
  },
  {
   "cell_type": "markdown",
   "metadata": {},
   "source": [
    "### 6. Closing the environment\n",
    "\n",
    "In the last step, we close the environment."
   ]
  },
  {
   "cell_type": "code",
   "execution_count": null,
   "metadata": {},
   "outputs": [],
   "source": [
    "env.close()"
   ]
  }
 ],
 "metadata": {
  "kernelspec": {
   "display_name": "drlnd",
   "language": "python",
   "name": "drlnd"
  },
  "language_info": {
   "codemirror_mode": {
    "name": "ipython",
    "version": 3
   },
   "file_extension": ".py",
   "mimetype": "text/x-python",
   "name": "python",
   "nbconvert_exporter": "python",
   "pygments_lexer": "ipython3",
   "version": "3.6.7"
  }
 },
 "nbformat": 4,
 "nbformat_minor": 2
}
